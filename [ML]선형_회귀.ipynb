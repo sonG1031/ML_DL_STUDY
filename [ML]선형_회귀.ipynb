{
  "nbformat": 4,
  "nbformat_minor": 0,
  "metadata": {
    "colab": {
      "provenance": [],
      "authorship_tag": "ABX9TyOo2jazacHFCdTv4a04+bpD",
      "include_colab_link": true
    },
    "kernelspec": {
      "name": "python3",
      "display_name": "Python 3"
    },
    "language_info": {
      "name": "python"
    }
  },
  "cells": [
    {
      "cell_type": "markdown",
      "metadata": {
        "id": "view-in-github",
        "colab_type": "text"
      },
      "source": [
        "<a href=\"https://colab.research.google.com/github/sonG1031/ML_DL_STUDY/blob/main/%5BML%5D%EC%84%A0%ED%98%95_%ED%9A%8C%EA%B7%80.ipynb\" target=\"_parent\"><img src=\"https://colab.research.google.com/assets/colab-badge.svg\" alt=\"Open In Colab\"/></a>"
      ]
    },
    {
      "cell_type": "code",
      "execution_count": 1,
      "metadata": {
        "id": "OThcMZDuhiV1"
      },
      "outputs": [],
      "source": [
        "# 데이터 준비\n",
        "\n",
        "import numpy as np\n",
        "\n",
        "perch_length = np.array([8.4, 13.7, 15.0, 16.2, 17.4, 18.0, 18.7, 19.0, 19.6, 20.0, 21.0,\n",
        "       21.0, 21.0, 21.3, 22.0, 22.0, 22.0, 22.0, 22.0, 22.5, 22.5, 22.7,\n",
        "       23.0, 23.5, 24.0, 24.0, 24.6, 25.0, 25.6, 26.5, 27.3, 27.5, 27.5,\n",
        "       27.5, 28.0, 28.7, 30.0, 32.8, 34.5, 35.0, 36.5, 36.0, 37.0, 37.0,\n",
        "       39.0, 39.0, 39.0, 40.0, 40.0, 40.0, 40.0, 42.0, 43.0, 43.0, 43.5,\n",
        "       44.0])\n",
        "\n",
        "# 회귀 문제 이므로 perch_weight가 target으로 쓰임.\n",
        "perch_weight = np.array([5.9, 32.0, 40.0, 51.5, 70.0, 100.0, 78.0, 80.0, 85.0, 85.0, 110.0,\n",
        "       115.0, 125.0, 130.0, 120.0, 120.0, 130.0, 135.0, 110.0, 130.0,\n",
        "       150.0, 145.0, 150.0, 170.0, 225.0, 145.0, 188.0, 180.0, 197.0,\n",
        "       218.0, 300.0, 260.0, 265.0, 250.0, 250.0, 300.0, 320.0, 514.0,\n",
        "       556.0, 840.0, 685.0, 700.0, 700.0, 690.0, 900.0, 650.0, 820.0,\n",
        "       850.0, 900.0, 1015.0, 820.0, 1100.0, 1000.0, 1100.0, 1000.0,\n",
        "       1000.0])"
      ]
    },
    {
      "cell_type": "code",
      "source": [
        "from sklearn.model_selection import train_test_split\n",
        "\n",
        "train_input, test_input, train_target, test_target = train_test_split(perch_length, perch_weight, random_state=42)\n",
        "train_input = train_input.reshape(-1, 1) # 2차원 배열로 변경\n",
        "test_input = test_input.reshape(-1, 1)"
      ],
      "metadata": {
        "id": "sLoC43-Dr31_"
      },
      "execution_count": 2,
      "outputs": []
    },
    {
      "cell_type": "code",
      "source": [
        "from sklearn.neighbors import KNeighborsRegressor\n",
        "\n",
        "knr = KNeighborsRegressor(n_neighbors=3)\n",
        "knr.fit(train_input,train_target)"
      ],
      "metadata": {
        "colab": {
          "base_uri": "https://localhost:8080/"
        },
        "id": "bAvTIK4sr_d9",
        "outputId": "ff649547-c3a3-43d5-8d81-2e0bb65dd465"
      },
      "execution_count": 3,
      "outputs": [
        {
          "output_type": "execute_result",
          "data": {
            "text/plain": [
              "KNeighborsRegressor(n_neighbors=3)"
            ]
          },
          "metadata": {},
          "execution_count": 3
        }
      ]
    },
    {
      "cell_type": "code",
      "source": [
        "print(knr.predict([[50]])) # 기댓값 : 1500"
      ],
      "metadata": {
        "colab": {
          "base_uri": "https://localhost:8080/"
        },
        "id": "8ce33hZssNe5",
        "outputId": "ec004e16-a549-4992-959e-aae4dbc128f3"
      },
      "execution_count": 4,
      "outputs": [
        {
          "output_type": "stream",
          "name": "stdout",
          "text": [
            "[1033.33333333]\n"
          ]
        }
      ]
    },
    {
      "cell_type": "markdown",
      "source": [
        "왜 기댓값보다 작은 값으로 예측되는 걸까?"
      ],
      "metadata": {
        "id": "jdy02KERspFR"
      }
    },
    {
      "cell_type": "code",
      "source": [
        "import matplotlib.pyplot as plt\n",
        "\n",
        "distances, indexes = knr.kneighbors([[50]])\n",
        "plt.scatter(train_input, train_target)\n",
        "plt.scatter(train_input[indexes], train_target[indexes], marker='D') # k개의 이웃\n",
        "plt.scatter(50, 1033, marker='^') # 예측값\n",
        "\n",
        "plt.show()"
      ],
      "metadata": {
        "colab": {
          "base_uri": "https://localhost:8080/",
          "height": 265
        },
        "id": "j3RS8yJ0saGi",
        "outputId": "4dca4e3f-39cf-42cb-97ee-f8a5ab94d5cf"
      },
      "execution_count": 5,
      "outputs": [
        {
          "output_type": "display_data",
          "data": {
            "text/plain": [
              "<Figure size 432x288 with 1 Axes>"
            ],
            "image/png": "[encoded data removed]"
          },
          "metadata": {
            "needs_background": "light"
          }
        }
      ]
    },
    {
      "cell_type": "code",
      "source": [
        "print(np.mean(train_target[indexes]))\n",
        "# 훈련 세트의 범위를 벗어나자 값이 바뀌지 않음.\n",
        "print(knr.predict([[50]]))\n",
        "print(knr.predict([[100]]))  "
      ],
      "metadata": {
        "colab": {
          "base_uri": "https://localhost:8080/"
        },
        "id": "Cu5Hj47Xt_N2",
        "outputId": "c5e413c0-c020-4d9c-9c77-40470d35648a"
      },
      "execution_count": 7,
      "outputs": [
        {
          "output_type": "stream",
          "name": "stdout",
          "text": [
            "1033.3333333333333\n",
            "[1033.33333333]\n",
            "[1033.33333333]\n"
          ]
        }
      ]
    },
    {
      "cell_type": "markdown",
      "source": [
        "k-최근접 이웃 회귀는 가장 가까운 샘플을 찾아 타깃을 평균한다.  \n",
        "따라서 새로운 샘플이 훈련 세트의 범위를 벗어나면 엉뚱한 값을 예측할 수 있다.  "
      ],
      "metadata": {
        "id": "dkLATqQltf5q"
      }
    },
    {
      "cell_type": "markdown",
      "source": [
        "# 선형 회귀\n",
        "- 특성과 타겟 사이의 관계를 가장 잘 나타내는 선형 방정식을 찾음.\n",
        "    - 그말은 즉 최적의 기울기와 절편을 구한다는 의미\n",
        "- 훈련 세트를 벗어난 범위의 데이터도 잘 예측함.\n",
        "- 선형 회귀가 찾은 특성과 타겟 사이의 관계는 선형 방정식의 **계수** 또는 **가중치**에 저장됨.\n",
        "    - 종종 가중치는 방정식의 기울기와 절편을 모두 의미하는 경우가 많음."
      ],
      "metadata": {
        "id": "CHC9oVFevmlW"
      }
    },
    {
      "cell_type": "code",
      "source": [
        "from sklearn.linear_model import LinearRegression # fit_intercept 매개변수를 False로 지정하면 절편을 학습하지 않음.\n",
        "\n",
        "lr = LinearRegression()\n",
        "# 데이터의 특성이 하나 이므로 직선의 방정식을 학습함.\n",
        "lr.fit(train_input, train_target)  \n",
        "\n",
        "print(lr.predict([[50]]))"
      ],
      "metadata": {
        "colab": {
          "base_uri": "https://localhost:8080/"
        },
        "id": "UBj3cg7MvmNo",
        "outputId": "0a11ca1b-b6bd-4109-e8fd-0fab2080e067"
      },
      "execution_count": 8,
      "outputs": [
        {
          "output_type": "stream",
          "name": "stdout",
          "text": [
            "[1241.83860323]\n"
          ]
        }
      ]
    },
    {
      "cell_type": "code",
      "source": [
        "print(lr.coef_, lr.intercept_) # 직선의 기울기, y절편"
      ],
      "metadata": {
        "colab": {
          "base_uri": "https://localhost:8080/"
        },
        "id": "fp_1_WtftR48",
        "outputId": "f1238526-4776-43eb-ee21-c990d03d4815"
      },
      "execution_count": 9,
      "outputs": [
        {
          "output_type": "stream",
          "name": "stdout",
          "text": [
            "[39.01714496] -709.0186449535477\n"
          ]
        }
      ]
    },
    {
      "cell_type": "markdown",
      "source": [
        "머신러닝에서 기울기를 종종 계수(coefficient) 또는 가중치(weight)라고 부름."
      ],
      "metadata": {
        "id": "IDvo7Jj9w7lG"
      }
    },
    {
      "cell_type": "markdown",
      "source": [
        "# 모델 파라미터\n",
        "- 머신러닝 모델이 특성에서 학습한 파라미터"
      ],
      "metadata": {
        "id": "Lbd-MdkK5wJm"
      }
    },
    {
      "cell_type": "markdown",
      "source": [
        "coef_와 intercept_를 머신러닝 알고리즘이 찾은 값이라는 의미로  \n",
        "**모델 파라미터(model parameter)**라고 부름.  \n",
        "많은 머신러닝 알고리즘의 훈련 과정은 최적의 모델 파라미터를 찾는 것과 같음.  \n",
        "그리고 이를 **모델 기반 학습**이라고 부름. 그런데 k-최근접 이웃에는 모델 파라미터가 없다.  \n",
        "k-최근접 이웃처럼 훈련 세트를 저장하는 것이 훈련의 전부인 것을 **사례 기반 학습**이라고 부름."
      ],
      "metadata": {
        "id": "P1vGnSrsxCI3"
      }
    },
    {
      "cell_type": "code",
      "source": [
        "# 학습한 직선 그리기\n",
        "\n",
        "plt.scatter(train_input, train_target)\n",
        "plt.plot([15, 50], [15*lr.coef_+lr.intercept_, 50*lr.coef_+lr.intercept_])\n",
        "plt.scatter(50, 1241.8, marker='^')\n",
        "plt.xlabel('length')\n",
        "plt.ylabel('weight')\n",
        "plt.show()"
      ],
      "metadata": {
        "colab": {
          "base_uri": "https://localhost:8080/",
          "height": 279
        },
        "id": "V5K33achwxaG",
        "outputId": "e7bce65f-25b0-4a7f-9b55-ed970635c1a5"
      },
      "execution_count": 10,
      "outputs": [
        {
          "output_type": "display_data",
          "data": {
            "text/plain": [
              "<Figure size 432x288 with 1 Axes>"
            ],
            "image/png": "[encoded data removed]"
          },
          "metadata": {
            "needs_background": "light"
          }
        }
      ]
    },
    {
      "cell_type": "markdown",
      "source": [
        "훈련 세트 범위를 벗어나도 예측할 수 있음."
      ],
      "metadata": {
        "id": "Q7LaV98zzSUN"
      }
    },
    {
      "cell_type": "code",
      "source": [
        "print(lr.score(train_input, train_target))\n",
        "print(lr.score(test_input, test_target))"
      ],
      "metadata": {
        "colab": {
          "base_uri": "https://localhost:8080/"
        },
        "id": "Cew3pNrezC2I",
        "outputId": "3a79b36f-e074-486d-abc4-b8384ded932c"
      },
      "execution_count": 11,
      "outputs": [
        {
          "output_type": "stream",
          "name": "stdout",
          "text": [
            "0.939846333997604\n",
            "0.8247503123313558\n"
          ]
        }
      ]
    },
    {
      "cell_type": "markdown",
      "source": [
        "# 다항 회귀\n",
        "- 다항식을 사용한 선형 회귀\n",
        "- 다항식을 사용하여 특성과 타겟 사이의 관계를 나타냄.\n",
        "- 이 함수는 비선형일 수 있지만 여전히 선형 회귀로 표현 가능함."
      ],
      "metadata": {
        "id": "9JcS-Ziv05MT"
      }
    },
    {
      "cell_type": "markdown",
      "source": [
        "### 문제점  \n",
        "- 테스트 세트 점수와 훈련 세트 점수를 보면\n",
        "전체적으로 과소적합되었음.\n",
        "- 그래프를 확인해보면 선형 회귀가 만든 직선이 왼쪽 아래로 쭉 뻗어 있음.  \n",
        "이 직선대로 예측하게 되면 무게가 음수로 예측됨. 즉, 말이 안됨. \n",
        "\n",
        "### 해결방안\n",
        "- 최적의 직선이 아닌 최적의 곡선을 찾자.  \n",
        "즉, 2차 방정식의 그래프를 그려야하므로 제곱항을 훈련 세트에 추가\n",
        "    - 이렇게 다항식을 사용한 선형 회귀를 다항 회귀라고 부름."
      ],
      "metadata": {
        "id": "tBfzF6O3ze1e"
      }
    },
    {
      "cell_type": "code",
      "source": [
        "# 넘파이 브로드캐스팅을 사용하여 제곱항 배열을 만들고 \n",
        "# np.column_stack을 사용하여 열방향으로 합침.\n",
        "train_poly = np.column_stack((train_input ** 2, train_input)) \n",
        "test_poly = np.column_stack((test_input ** 2, test_input))"
      ],
      "metadata": {
        "id": "Ikz3RF1vzbn6"
      },
      "execution_count": 12,
      "outputs": []
    },
    {
      "cell_type": "code",
      "source": [
        "print(train_poly.shape, test_poly.shape)"
      ],
      "metadata": {
        "colab": {
          "base_uri": "https://localhost:8080/"
        },
        "id": "bVGgUGnu1aW5",
        "outputId": "f34e2625-2c84-4bed-d27c-9db89366f1c1"
      },
      "execution_count": 13,
      "outputs": [
        {
          "output_type": "stream",
          "name": "stdout",
          "text": [
            "(42, 2) (14, 2)\n"
          ]
        }
      ]
    },
    {
      "cell_type": "code",
      "source": [
        "lr = LinearRegression()\n",
        "lr.fit(train_poly, train_target)\n",
        "# 학습할때 제곱항을 추가했기 때문에 예측할때도 제곱항을 추가\n",
        "print(lr.predict([[50**2, 50]])) "
      ],
      "metadata": {
        "colab": {
          "base_uri": "https://localhost:8080/"
        },
        "id": "BDgOWxXW1eNX",
        "outputId": "900d716f-f2e0-4262-cdb5-3a21400c5f76"
      },
      "execution_count": 15,
      "outputs": [
        {
          "output_type": "stream",
          "name": "stdout",
          "text": [
            "[1573.98423528]\n"
          ]
        }
      ]
    },
    {
      "cell_type": "code",
      "source": [
        "print(lr.coef_, lr.intercept_)"
      ],
      "metadata": {
        "colab": {
          "base_uri": "https://localhost:8080/"
        },
        "id": "mgHlRlLi2DKa",
        "outputId": "c349ef10-48c5-4926-bb98-7ed61996f674"
      },
      "execution_count": 16,
      "outputs": [
        {
          "output_type": "stream",
          "name": "stdout",
          "text": [
            "[  1.01433211 -21.55792498] 116.0502107827827\n"
          ]
        }
      ]
    },
    {
      "cell_type": "markdown",
      "source": [
        "무게 = 1.01 x 길이^2 -21.6 x 길이 + 116.05"
      ],
      "metadata": {
        "id": "UjvN2ld02c9b"
      }
    },
    {
      "cell_type": "code",
      "source": [
        "# 곡선을 그리기 위해 구간별로 짧은 직선을 그려야함.\n",
        "point = np.arange(15, 50) \n",
        "\n",
        "plt.scatter(train_input, train_target)\n",
        "plt.plot(point, 1.01*point**2 - 21.6*point + 116.05)\n",
        "\n",
        "plt.scatter(50, 1574, marker='^')\n",
        "plt.xlabel('length')\n",
        "plt.ylabel('weight')\n",
        "plt.show()"
      ],
      "metadata": {
        "colab": {
          "base_uri": "https://localhost:8080/",
          "height": 279
        },
        "id": "5w7rex2z2XIl",
        "outputId": "fbb473c3-d20d-4059-9aab-6cb3a904e918"
      },
      "execution_count": 17,
      "outputs": [
        {
          "output_type": "display_data",
          "data": {
            "text/plain": [
              "<Figure size 432x288 with 1 Axes>"
            ],
            "image/png": "[encoded data removed]"
          },
          "metadata": {
            "needs_background": "light"
          }
        }
      ]
    },
    {
      "cell_type": "code",
      "source": [
        "print(lr.score(train_poly, train_target))\n",
        "print(lr.score(test_poly, test_target))"
      ],
      "metadata": {
        "colab": {
          "base_uri": "https://localhost:8080/"
        },
        "id": "dy3gXz_4357g",
        "outputId": "8dc2713e-a057-4fd2-b49a-100fae7ea12c"
      },
      "execution_count": 18,
      "outputs": [
        {
          "output_type": "stream",
          "name": "stdout",
          "text": [
            "0.9706807451768623\n",
            "0.9775935108325122\n"
          ]
        }
      ]
    },
    {
      "cell_type": "markdown",
      "source": [
        "R^2의 점수가 크게 높아짐.  \n",
        "하지만 여전히 테스트 세트의 점수가 좀 더 높음. 과소적합이 약간 남음.  \n",
        "따라서 조금 더 복잡한 모델이 필요함."
      ],
      "metadata": {
        "id": "7V3wZ2wo4DhY"
      }
    }
  ]
}