{
  "nbformat": 4,
  "nbformat_minor": 0,
  "metadata": {
    "colab": {
      "provenance": [],
      "authorship_tag": "ABX9TyPxCXLizdzlBlSbR5ATgVR4",
      "include_colab_link": true
    },
    "kernelspec": {
      "name": "python3",
      "display_name": "Python 3"
    },
    "language_info": {
      "name": "python"
    }
  },
  "cells": [
    {
      "cell_type": "markdown",
      "metadata": {
        "id": "view-in-github",
        "colab_type": "text"
      },
      "source": [
        "<a href=\"https://colab.research.google.com/github/sonG1031/ML_DL_STUDY/blob/main/%5BML%5D%EC%A0%84%EC%B2%98%EB%A6%AC.ipynb\" target=\"_parent\"><img src=\"https://colab.research.google.com/assets/colab-badge.svg\" alt=\"Open In Colab\"/></a>"
      ]
    },
    {
      "cell_type": "markdown",
      "source": [
        "### 데이터 전처리\n",
        "- 머신러닝 모델에 훈련 데이터를 학습시키기 전에 가공하는 단계.  \n",
        "데이터 전처리에 많은 시간이 소모되기도 함.  \n",
        "\n",
        "### 브로드캐스팅\n",
        "- 크기가 다른 넘파이 배열에서 자동으로 사칙 연산을 모든 행이나 열로 확장하여 수행하는 기능."
      ],
      "metadata": {
        "id": "_ogDDIm-sXhH"
      }
    },
    {
      "cell_type": "code",
      "execution_count": 1,
      "metadata": {
        "id": "_BkZ9QFFnWhN"
      },
      "outputs": [],
      "source": [
        "# 도미 + 빙어의 길이, 무게\n",
        "fish_length = [25.4, 26.3, 26.5, 29.0, 29.0, 29.7, 29.7, 30.0, 30.0, 30.7, 31.0, 31.0, \n",
        "                31.5, 32.0, 32.0, 32.0, 33.0, 33.0, 33.5, 33.5, 34.0, 34.0, 34.5, 35.0, \n",
        "                35.0, 35.0, 35.0, 36.0, 36.0, 37.0, 38.5, 38.5, 39.5, 41.0, 41.0, 9.8, \n",
        "                10.5, 10.6, 11.0, 11.2, 11.3, 11.8, 11.8, 12.0, 12.2, 12.4, 13.0, 14.3, 15.0]\n",
        "fish_weight = [242.0, 290.0, 340.0, 363.0, 430.0, 450.0, 500.0, 390.0, 450.0, 500.0, 475.0, 500.0, \n",
        "                500.0, 340.0, 600.0, 600.0, 700.0, 700.0, 610.0, 650.0, 575.0, 685.0, 620.0, 680.0, \n",
        "                700.0, 725.0, 720.0, 714.0, 850.0, 1000.0, 920.0, 955.0, 925.0, 975.0, 950.0, 6.7, \n",
        "                7.5, 7.0, 9.7, 9.8, 8.7, 10.0, 9.9, 9.8, 12.2, 13.4, 12.2, 19.7, 19.9]"
      ]
    },
    {
      "cell_type": "code",
      "source": [
        "import numpy as np\n",
        "\n",
        "fish_data = np.column_stack((fish_length, fish_weight))\n",
        "print(fish_data[:5])"
      ],
      "metadata": {
        "colab": {
          "base_uri": "https://localhost:8080/"
        },
        "id": "LpRcOLKZLOYT",
        "outputId": "bb29526f-bce4-4bd4-90b4-7d929e1a1134"
      },
      "execution_count": 2,
      "outputs": [
        {
          "output_type": "stream",
          "name": "stdout",
          "text": [
            "[[ 25.4 242. ]\n",
            " [ 26.3 290. ]\n",
            " [ 26.5 340. ]\n",
            " [ 29.  363. ]\n",
            " [ 29.  430. ]]\n"
          ]
        }
      ]
    },
    {
      "cell_type": "markdown",
      "source": [
        "**np.column_stack()** : 전달 받은 리스트를 일렬로 세운 다음 차례대로 나란히 연결, 연결할 리스트는 튜플로 전달.\n",
        "  \n",
        "튜플로 전달하는 이유?  \n",
        "튜플을 사용하면 함수로 전달한 값이 바뀌지 않는다는 것을 믿을 수 있기 때문에 매개변수 값으로 많이 사용함."
      ],
      "metadata": {
        "id": "evdplaqkMRIF"
      }
    },
    {
      "cell_type": "code",
      "source": [
        "fish_target = np.concatenate((np.ones(35), np.zeros(14)))\n",
        "print(fish_target)"
      ],
      "metadata": {
        "colab": {
          "base_uri": "https://localhost:8080/"
        },
        "id": "fT6UWTq4M6pl",
        "outputId": "698b1d0b-dc15-4bdd-eb83-5db17dc68530"
      },
      "execution_count": 3,
      "outputs": [
        {
          "output_type": "stream",
          "name": "stdout",
          "text": [
            "[1. 1. 1. 1. 1. 1. 1. 1. 1. 1. 1. 1. 1. 1. 1. 1. 1. 1. 1. 1. 1. 1. 1. 1.\n",
            " 1. 1. 1. 1. 1. 1. 1. 1. 1. 1. 1. 0. 0. 0. 0. 0. 0. 0. 0. 0. 0. 0. 0. 0.\n",
            " 0.]\n"
          ]
        }
      ]
    },
    {
      "cell_type": "markdown",
      "source": [
        "**np.concatenate()** : 전달 받은 리스를 연결함.\n",
        "  \n",
        "데이터가 아주 큰 경우에 파이썬 리스트로 작업하는 것은 비효율적이다.  \n",
        "넘파이 배열은 핵심 부분이 C, C++과 같은 저수준 언어로 개발되어 빠르고,  \n",
        "데이터 과학 분야에 알맞게 최적화 되어 있음."
      ],
      "metadata": {
        "id": "DODYmaRHNoBu"
      }
    },
    {
      "cell_type": "code",
      "source": [
        "from sklearn.model_selection import train_test_split\n",
        "\n",
        "train_input, test_input, train_target, test_target = train_test_split(fish_data, fish_target, stratify=fish_target, random_state=42)\n",
        "print(test_target)"
      ],
      "metadata": {
        "colab": {
          "base_uri": "https://localhost:8080/"
        },
        "id": "F-ut-RgqOWjF",
        "outputId": "95c3f8a6-7a77-40fe-ab92-2becb0e36068"
      },
      "execution_count": 5,
      "outputs": [
        {
          "output_type": "stream",
          "name": "stdout",
          "text": [
            "[0. 0. 1. 0. 1. 0. 1. 1. 1. 1. 1. 1. 1.]\n"
          ]
        }
      ]
    },
    {
      "cell_type": "markdown",
      "source": [
        "**train_test_split()** : 훈련 데이터를 훈련 세트와 테스트 세트로 나누는 함수이고,\n",
        "여러개의 배열을 전달할 수 있다.  \n",
        "- test_size 매개변수에서 테스트 세트로 나눌 비율을 정할 수 있으며 기본값은 25%\n",
        "- shuffle 매개변수로 데이터를 섞을지 여부를 결정할 수 있으며 기본값은 True\n",
        "- stratify 매개변수에 클래스 레이블이 담긴 배열(일번적으로 타겟)을 전달하면 클래스 비율에 맞게 나눔."
      ],
      "metadata": {
        "id": "VvF9_Lk9RXL4"
      }
    },
    {
      "cell_type": "code",
      "source": [
        "from sklearn.neighbors import KNeighborsClassifier\n",
        "\n",
        "kn = KNeighborsClassifier()\n",
        "kn.fit(train_input, train_target)\n",
        "kn.score(test_input, test_target)"
      ],
      "metadata": {
        "colab": {
          "base_uri": "https://localhost:8080/"
        },
        "id": "P2BGjiQmRV69",
        "outputId": "bffd9f56-7b62-473d-d169-6902d3ab6efe"
      },
      "execution_count": 6,
      "outputs": [
        {
          "output_type": "execute_result",
          "data": {
            "text/plain": [
              "1.0"
            ]
          },
          "metadata": {},
          "execution_count": 6
        }
      ]
    },
    {
      "cell_type": "code",
      "source": [
        "# 문제 발생!!\n",
        "print(kn.predict([[25, 150]])) # 기댓값 : 1"
      ],
      "metadata": {
        "colab": {
          "base_uri": "https://localhost:8080/"
        },
        "id": "M2AgM2LPSJZJ",
        "outputId": "ba50c80c-ed04-496c-bc20-9fda85965a92"
      },
      "execution_count": 7,
      "outputs": [
        {
          "output_type": "stream",
          "name": "stdout",
          "text": [
            "[0.]\n"
          ]
        }
      ]
    },
    {
      "cell_type": "markdown",
      "source": [
        "도미로 예측을 못하는 이유는?"
      ],
      "metadata": {
        "id": "nxVbfizrSajr"
      }
    },
    {
      "cell_type": "code",
      "source": [
        "import matplotlib.pyplot as plt\n",
        "\n",
        "plt.scatter(train_input[:, 0], train_input[:, 1])\n",
        "plt.scatter(25, 150, marker='^')\n",
        "plt.xlabel('length')\n",
        "plt.ylabel('weight')\n",
        "plt.show()"
      ],
      "metadata": {
        "colab": {
          "base_uri": "https://localhost:8080/",
          "height": 279
        },
        "id": "6GrUWi_ISjeQ",
        "outputId": "878f7eab-1fa1-4669-aa20-35e2ec97fc5f"
      },
      "execution_count": 8,
      "outputs": [
        {
          "output_type": "display_data",
          "data": {
            "text/plain": [
              "<Figure size 432x288 with 1 Axes>"
            ],
            "image/png": "[encoded data removed]"
          },
          "metadata": {
            "needs_background": "light"
          }
        }
      ]
    },
    {
      "cell_type": "code",
      "source": [
        "distances, indexes = kn.kneighbors([[25, 150]]) # 전달받은 샘플의 가장 가까운 이웃을 찾아줌. n_neighbors 개수만큼.\n",
        "print(indexes)"
      ],
      "metadata": {
        "colab": {
          "base_uri": "https://localhost:8080/"
        },
        "id": "GI6aHaZhS-3q",
        "outputId": "09755931-46fb-4b54-dac1-e3910e022383"
      },
      "execution_count": 12,
      "outputs": [
        {
          "output_type": "stream",
          "name": "stdout",
          "text": [
            "[[21 33 19 30  1]]\n"
          ]
        }
      ]
    },
    {
      "cell_type": "code",
      "source": [
        "plt.scatter(train_input[:, 0], train_input[:, 1])\n",
        "plt.scatter(train_input[indexes, 0], train_input[indexes, 1])\n",
        "plt.scatter(25, 150, marker='^')\n",
        "plt.xlabel('length')\n",
        "plt.ylabel('weight')\n",
        "plt.show()"
      ],
      "metadata": {
        "colab": {
          "base_uri": "https://localhost:8080/",
          "height": 279
        },
        "id": "n8j1biFTTfUb",
        "outputId": "f822efe9-9ade-406c-ed68-cc95dd0ae955"
      },
      "execution_count": 13,
      "outputs": [
        {
          "output_type": "display_data",
          "data": {
            "text/plain": [
              "<Figure size 432x288 with 1 Axes>"
            ],
            "image/png": "[encoded data removed]"
          },
          "metadata": {
            "needs_background": "light"
          }
        }
      ]
    },
    {
      "cell_type": "markdown",
      "source": [
        "길이가 25cm, 무게가 150g인 생선에 가까운 이웃에는 빙어가 압도적으로 많기 때문.  \n",
        "직관적으로 봤을땐 가장 가까운 이웃이 도미일 것 같은데, 왜?"
      ],
      "metadata": {
        "id": "9Dk6UK_oUt_T"
      }
    },
    {
      "cell_type": "code",
      "source": [
        "print(distances)\n",
        "print(train_target[indexes])\n",
        "print(train_input[indexes])"
      ],
      "metadata": {
        "colab": {
          "base_uri": "https://localhost:8080/"
        },
        "id": "B0SZHQulUF8H",
        "outputId": "f1012bc6-74e3-472c-fd63-206dc05def9a"
      },
      "execution_count": 19,
      "outputs": [
        {
          "output_type": "stream",
          "name": "stdout",
          "text": [
            "[[ 92.00086956 130.48375378 130.73859415 138.32150953 138.39320793]]\n",
            "[[1. 0. 0. 0. 0.]]\n",
            "[[[ 25.4 242. ]\n",
            "  [ 15.   19.9]\n",
            "  [ 14.3  19.7]\n",
            "  [ 13.   12.2]\n",
            "  [ 12.2  12.2]]]\n"
          ]
        }
      ]
    },
    {
      "cell_type": "markdown",
      "source": [
        "가장 가까운 거리에 있는 샘플이 도미이고, 그 거리는 약 92 이다.  \n",
        "그런데 두번쨰로 가까운 샘플의 거리가 약 130 이다??  \n",
        "X축의 범위는 좁고, Y축의 범위는 넓기 떄문에 \n"
      ],
      "metadata": {
        "id": "5OZovf3BW0Hv"
      }
    },
    {
      "cell_type": "code",
      "source": [
        "# 두 점사이의 거리를 구하는 식\n",
        "dx = (25 - 25.4) ** 2 # 0.08\n",
        "dy = (150 - 242) ** 2 # 8464\n",
        "\n",
        "print('target[1] : ', (dx + dy)**0.5) # (0.08 + 8464) ** 0.5\n",
        "\n",
        "dx = (25 - 15) ** 2 # 100\n",
        "dy = (150 - 19.9) ** 2 # 16926.01\n",
        "\n",
        "print('target[0] : ', (dx + dy)**0.5) # (100 + 16926.01) ** 0.5"
      ],
      "metadata": {
        "colab": {
          "base_uri": "https://localhost:8080/"
        },
        "id": "8l6FrBDzWyHG",
        "outputId": "ec1ac281-d6c9-4ca2-f25a-78bcfbe90ca4"
      },
      "execution_count": 21,
      "outputs": [
        {
          "output_type": "stream",
          "name": "stdout",
          "text": [
            "target[1] :  92.00086956110795\n",
            "target[0] :  130.4837537780087\n"
          ]
        }
      ]
    },
    {
      "cell_type": "code",
      "source": [
        "plt.scatter(train_input[:, 0], train_input[:, 1])\n",
        "plt.scatter(train_input[indexes, 0], train_input[indexes, 1])\n",
        "plt.scatter(25, 150, marker='^')\n",
        "plt.xlim((0, 1000))\n",
        "plt.xlabel('length')\n",
        "plt.ylabel('weight')\n",
        "plt.show()"
      ],
      "metadata": {
        "colab": {
          "base_uri": "https://localhost:8080/",
          "height": 279
        },
        "id": "nxRlK0ETcJUm",
        "outputId": "d7019620-cf6f-41fa-f1f8-c918e3b14c48"
      },
      "execution_count": 22,
      "outputs": [
        {
          "output_type": "display_data",
          "data": {
            "text/plain": [
              "<Figure size 432x288 with 1 Axes>"
            ],
            "image/png": "[encoded data removed]"
          },
          "metadata": {
            "needs_background": "light"
          }
        }
      ]
    },
    {
      "cell_type": "markdown",
      "source": [
        "위처럼 거리를 계산할때 y의 값의 영향이 큼.  "
      ],
      "metadata": {
        "id": "oULtUCVnajw-"
      }
    },
    {
      "cell_type": "markdown",
      "source": [
        "두 특성의 값이 놓인 범위가 매우 다름. 이를 두 특성의 **스케일(scale)**이 다르다고 표현함.  \n",
        "Ex) 방의 넓이를 재는데 세로는 cm, 가로를 inch로 잰 것처럼~"
      ],
      "metadata": {
        "id": "OIMBIOrcdVax"
      }
    },
    {
      "cell_type": "markdown",
      "source": [
        "데이터를 표현하느 기준이 다르면 알고리즘이 올바르게 예측할 수 없음.  \n",
        "알고리즘이 거리 기반일 때 특히 그렇다.(k-최근접 이웃)  \n",
        "이런 알고리즘들은 샘플 간의 거리에 영향을 많이 받으므로 제대로 사용하려면  \n",
        "특성값을 **일정한 기준으로 맞춰야만 함!**  \n",
        "이런 작업을 **데이터 전처리**라고 부름."
      ],
      "metadata": {
        "id": "v6b-drRSdvPo"
      }
    },
    {
      "cell_type": "markdown",
      "source": [
        "### 표준 점수(standard score, Z점수)\n",
        "- 각 특성값이 평균에서 표준편차의 몇 배만큼 떨어져 있는지를 나타냄.  \n",
        "- 가장 널리 사용되는 전처리 방법 중 하나\n",
        "- 표준점수를 얻으려면 특성의 평균을 뺴고 표준편차로 나눔.\n",
        "- 반드시 훈련 세트의 평균과 표준편차로 테스트 세트를 바꿔야함.\n",
        "\n",
        "분산 : 평균값으로부터의 차이, 즉 편차의 제곱(양수로 만들기 위해서).  \n",
        "표준편차 : 분산의 제곱근(편차의 제곱을 원래 단위로 돌리기 위해?). "
      ],
      "metadata": {
        "id": "0q_2KSHIfiBn"
      }
    },
    {
      "cell_type": "code",
      "source": [
        "# 데이터 전처리\n",
        "\n",
        "mean = np.mean(train_input, axis=0)\n",
        "std = np.std(train_input, axis=0)\n",
        "# axis= 0 : 열로 계산, axis=1 : 행으로 계산\n",
        "# 각 특성의 스케일이 다르므로 특성끼리 표준점수를 계산해야함.\n",
        "print(mean, std)\n",
        "\n",
        "train_scaled = (train_input - mean) / std # 브로드캐스팅"
      ],
      "metadata": {
        "colab": {
          "base_uri": "https://localhost:8080/"
        },
        "id": "mvedjHwAaSmD",
        "outputId": "2e70c719-2ed0-4e07-8397-a2a1a3e03fb8"
      },
      "execution_count": 23,
      "outputs": [
        {
          "output_type": "stream",
          "name": "stdout",
          "text": [
            "[ 27.29722222 454.09722222] [  9.98244253 323.29893931]\n"
          ]
        }
      ]
    },
    {
      "cell_type": "code",
      "source": [
        "plt.scatter(train_scaled[:, 0], train_scaled[:, 1])\n",
        "plt.scatter(25, 150, marker='^') # 전처리를 안한 데이터라 동떨어져 보임. \n",
        "plt.xlabel('length')\n",
        "plt.ylabel('weight')\n",
        "plt.show()"
      ],
      "metadata": {
        "colab": {
          "base_uri": "https://localhost:8080/",
          "height": 279
        },
        "id": "eiUfuwKmjwO8",
        "outputId": "6b9fc984-ab22-4d4b-cae3-7e5d662dd25f"
      },
      "execution_count": 24,
      "outputs": [
        {
          "output_type": "display_data",
          "data": {
            "text/plain": [
              "<Figure size 432x288 with 1 Axes>"
            ],
            "image/png": "[encoded data removed]"
          },
          "metadata": {
            "needs_background": "light"
          }
        }
      ]
    },
    {
      "cell_type": "markdown",
      "source": [
        "샘플 [25, 150]은 전처리를 안한 데이터라 동떨어져 보임.  \n",
        "중요한 점은 훈련 세트의 mean, std를 이용해서 변환해야하 함(동일한 기준이여야 하므로)."
      ],
      "metadata": {
        "id": "G2nOIa9vk-CS"
      }
    },
    {
      "cell_type": "code",
      "source": [
        "new = ([25, 150] - mean) / std\n",
        "plt.scatter(train_scaled[:, 0], train_scaled[:, 1])\n",
        "plt.scatter(new[0], new[1], marker='^') \n",
        "plt.xlabel('length')\n",
        "plt.ylabel('weight')\n",
        "plt.show()"
      ],
      "metadata": {
        "colab": {
          "base_uri": "https://localhost:8080/",
          "height": 279
        },
        "id": "1L_ZQm3tktfe",
        "outputId": "b04096fd-7bd9-4869-f96c-ea83bde1a4c8"
      },
      "execution_count": 26,
      "outputs": [
        {
          "output_type": "display_data",
          "data": {
            "text/plain": [
              "<Figure size 432x288 with 1 Axes>"
            ],
            "image/png": "[encoded data removed]"
          },
          "metadata": {
            "needs_background": "light"
          }
        }
      ]
    },
    {
      "cell_type": "markdown",
      "source": [
        "전처리를 통해 훈련 데이터의 두 특성이 비슷한 범위를 차지하게 됨(X축, Y축 확인)."
      ],
      "metadata": {
        "id": "0GeY_b7ZmC4N"
      }
    },
    {
      "cell_type": "code",
      "source": [
        "kn.fit(train_scaled, train_target)\n",
        "test_scaled = (test_input - mean) / std\n",
        "kn.score(test_scaled, test_target)\n",
        "\n",
        "print(kn.predict([new])) # 성공!!"
      ],
      "metadata": {
        "colab": {
          "base_uri": "https://localhost:8080/"
        },
        "id": "zzwPJZuNl1Tz",
        "outputId": "0c4bb15d-227a-449c-fcd6-27699ff31d2a"
      },
      "execution_count": 29,
      "outputs": [
        {
          "output_type": "stream",
          "name": "stdout",
          "text": [
            "[1.]\n"
          ]
        }
      ]
    },
    {
      "cell_type": "markdown",
      "source": [
        "훈련 후 테스트 세트를 평가할 떄는 훈련 세트의 기준(평균, 표준편차)으로 테스트 세트를 변환해야함."
      ],
      "metadata": {
        "id": "rN4mJaVonxRa"
      }
    },
    {
      "cell_type": "code",
      "source": [
        "distances, indexes = kn.kneighbors([new]) \n",
        "plt.scatter(train_input[:, 0], train_input[:, 1])\n",
        "plt.scatter(train_input[indexes, 0], train_input[indexes, 1])\n",
        "plt.scatter(25, 150, marker='^')\n",
        "plt.xlabel('length')\n",
        "plt.ylabel('weight')\n",
        "plt.show()\n",
        "# 특성을 표준점수로 바꾸었기 때문에 k-최근접 이웃 알고리즘이 올바르게 거리를 축정함."
      ],
      "metadata": {
        "colab": {
          "base_uri": "https://localhost:8080/",
          "height": 279
        },
        "id": "S4lJWKOtnGB3",
        "outputId": "affe9ec8-fc22-4d38-c517-6e044a62dd70"
      },
      "execution_count": 31,
      "outputs": [
        {
          "output_type": "display_data",
          "data": {
            "text/plain": [
              "<Figure size 432x288 with 1 Axes>"
            ],
            "image/png": "[encoded data removed]"
          },
          "metadata": {
            "needs_background": "light"
          }
        }
      ]
    }
  ]
}